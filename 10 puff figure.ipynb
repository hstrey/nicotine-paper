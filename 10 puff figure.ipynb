{
 "cells": [
  {
   "cell_type": "code",
   "execution_count": 95,
   "metadata": {
    "collapsed": true
   },
   "outputs": [],
   "source": [
    "%matplotlib inline\n",
    "import numpy as np\n",
    "import matplotlib.pylab as plt\n",
    "import pandas as pd"
   ]
  },
  {
   "cell_type": "code",
   "execution_count": 96,
   "metadata": {
    "collapsed": true
   },
   "outputs": [],
   "source": [
    "puff10=pd.read_csv(\"10_Puff_4_Min_Nicotine_BloodResults.csv\",index_col=0)"
   ]
  },
  {
   "cell_type": "code",
   "execution_count": 97,
   "metadata": {
    "collapsed": false
   },
   "outputs": [
    {
     "data": {
      "text/html": [
       "<div>\n",
       "<table border=\"1\" class=\"dataframe\">\n",
       "  <thead>\n",
       "    <tr style=\"text-align: right;\">\n",
       "      <th></th>\n",
       "      <th>18-002(16ARUP)</th>\n",
       "      <th>32-002</th>\n",
       "      <th>33-002</th>\n",
       "      <th>34-001</th>\n",
       "      <th>19-004</th>\n",
       "      <th>35-001</th>\n",
       "      <th>36-001</th>\n",
       "      <th>37-001</th>\n",
       "      <th>38-001</th>\n",
       "    </tr>\n",
       "  </thead>\n",
       "  <tbody>\n",
       "    <tr>\n",
       "      <th>Baseline</th>\n",
       "      <td>3</td>\n",
       "      <td>3</td>\n",
       "      <td>7</td>\n",
       "      <td>8</td>\n",
       "      <td>10</td>\n",
       "      <td>5</td>\n",
       "      <td>7</td>\n",
       "      <td>6</td>\n",
       "      <td>2</td>\n",
       "    </tr>\n",
       "    <tr>\n",
       "      <th>2</th>\n",
       "      <td>5</td>\n",
       "      <td>10</td>\n",
       "      <td>13</td>\n",
       "      <td>15</td>\n",
       "      <td>9</td>\n",
       "      <td>9</td>\n",
       "      <td>2</td>\n",
       "      <td>2</td>\n",
       "      <td>2</td>\n",
       "    </tr>\n",
       "    <tr>\n",
       "      <th>4</th>\n",
       "      <td>13</td>\n",
       "      <td>13</td>\n",
       "      <td>9</td>\n",
       "      <td>9</td>\n",
       "      <td>19</td>\n",
       "      <td>9</td>\n",
       "      <td>9</td>\n",
       "      <td>4</td>\n",
       "      <td>3</td>\n",
       "    </tr>\n",
       "    <tr>\n",
       "      <th>6</th>\n",
       "      <td>12</td>\n",
       "      <td>12</td>\n",
       "      <td>9</td>\n",
       "      <td>14</td>\n",
       "      <td>14</td>\n",
       "      <td>8</td>\n",
       "      <td>6</td>\n",
       "      <td>6</td>\n",
       "      <td>4</td>\n",
       "    </tr>\n",
       "    <tr>\n",
       "      <th>8</th>\n",
       "      <td>8</td>\n",
       "      <td>16</td>\n",
       "      <td>13</td>\n",
       "      <td>16</td>\n",
       "      <td>12</td>\n",
       "      <td>10</td>\n",
       "      <td>6</td>\n",
       "      <td>6</td>\n",
       "      <td>5</td>\n",
       "    </tr>\n",
       "    <tr>\n",
       "      <th>10</th>\n",
       "      <td>12</td>\n",
       "      <td>11</td>\n",
       "      <td>11</td>\n",
       "      <td>15</td>\n",
       "      <td>19</td>\n",
       "      <td>27</td>\n",
       "      <td>6</td>\n",
       "      <td>9</td>\n",
       "      <td>5</td>\n",
       "    </tr>\n",
       "    <tr>\n",
       "      <th>EOS</th>\n",
       "      <td>10</td>\n",
       "      <td>17</td>\n",
       "      <td>13</td>\n",
       "      <td>12</td>\n",
       "      <td>12</td>\n",
       "      <td>12</td>\n",
       "      <td>5</td>\n",
       "      <td>5</td>\n",
       "      <td>4</td>\n",
       "    </tr>\n",
       "    <tr>\n",
       "      <th>Cotinine (BL)</th>\n",
       "      <td>90</td>\n",
       "      <td>167</td>\n",
       "      <td>137</td>\n",
       "      <td>200</td>\n",
       "      <td>102</td>\n",
       "      <td>77</td>\n",
       "      <td>359</td>\n",
       "      <td>56</td>\n",
       "      <td>9</td>\n",
       "    </tr>\n",
       "    <tr>\n",
       "      <th>FagerStrom</th>\n",
       "      <td>6</td>\n",
       "      <td>6</td>\n",
       "      <td>6</td>\n",
       "      <td>7</td>\n",
       "      <td>6</td>\n",
       "      <td>6</td>\n",
       "      <td>6</td>\n",
       "      <td>5,8</td>\n",
       "      <td>4,2,9</td>\n",
       "    </tr>\n",
       "    <tr>\n",
       "      <th>Cig/Day</th>\n",
       "      <td>0_10</td>\n",
       "      <td>20_30</td>\n",
       "      <td>11_20</td>\n",
       "      <td>0_10</td>\n",
       "      <td>11_20</td>\n",
       "      <td>11_20</td>\n",
       "      <td>0_10</td>\n",
       "      <td>11_20,20_30</td>\n",
       "      <td>0_10,20_30</td>\n",
       "    </tr>\n",
       "    <tr>\n",
       "      <th>Gender</th>\n",
       "      <td>M</td>\n",
       "      <td>M</td>\n",
       "      <td>M</td>\n",
       "      <td>M</td>\n",
       "      <td>M</td>\n",
       "      <td>M</td>\n",
       "      <td>M</td>\n",
       "      <td>M</td>\n",
       "      <td>M</td>\n",
       "    </tr>\n",
       "    <tr>\n",
       "      <th>Age</th>\n",
       "      <td>22</td>\n",
       "      <td>52</td>\n",
       "      <td>28</td>\n",
       "      <td>30</td>\n",
       "      <td>24</td>\n",
       "      <td>30</td>\n",
       "      <td>22</td>\n",
       "      <td>22</td>\n",
       "      <td>24</td>\n",
       "    </tr>\n",
       "    <tr>\n",
       "      <th>Weight (lb)</th>\n",
       "      <td>135</td>\n",
       "      <td>155</td>\n",
       "      <td>187</td>\n",
       "      <td>207</td>\n",
       "      <td>155</td>\n",
       "      <td>135</td>\n",
       "      <td>160</td>\n",
       "      <td>165</td>\n",
       "      <td>157</td>\n",
       "    </tr>\n",
       "    <tr>\n",
       "      <th>Height (\")</th>\n",
       "      <td>70</td>\n",
       "      <td>75</td>\n",
       "      <td>73</td>\n",
       "      <td>71</td>\n",
       "      <td>67</td>\n",
       "      <td>69</td>\n",
       "      <td>64</td>\n",
       "      <td>71</td>\n",
       "      <td>68</td>\n",
       "    </tr>\n",
       "  </tbody>\n",
       "</table>\n",
       "</div>"
      ],
      "text/plain": [
       "              18-002(16ARUP) 32-002 33-002 34-001 19-004 35-001 36-001  \\\n",
       "Baseline                   3      3      7      8     10      5      7   \n",
       "2                          5     10     13     15      9      9      2   \n",
       "4                         13     13      9      9     19      9      9   \n",
       "6                         12     12      9     14     14      8      6   \n",
       "8                          8     16     13     16     12     10      6   \n",
       "10                        12     11     11     15     19     27      6   \n",
       "EOS                       10     17     13     12     12     12      5   \n",
       "Cotinine (BL)             90    167    137    200    102     77    359   \n",
       "FagerStrom                 6      6      6      7      6      6      6   \n",
       "Cig/Day                 0_10  20_30  11_20   0_10  11_20  11_20   0_10   \n",
       "Gender                     M      M      M      M      M      M      M   \n",
       "Age                       22     52     28     30     24     30     22   \n",
       "Weight (lb)              135    155    187    207    155    135    160   \n",
       "Height (\")                70     75     73     71     67     69     64   \n",
       "\n",
       "                    37-001      38-001  \n",
       "Baseline                 6           2  \n",
       "2                        2           2  \n",
       "4                        4           3  \n",
       "6                        6           4  \n",
       "8                        6           5  \n",
       "10                       9           5  \n",
       "EOS                      5           4  \n",
       "Cotinine (BL)           56           9  \n",
       "FagerStrom             5,8       4,2,9  \n",
       "Cig/Day        11_20,20_30  0_10,20_30  \n",
       "Gender                   M           M  \n",
       "Age                     22          24  \n",
       "Weight (lb)            165         157  \n",
       "Height (\")              71          68  "
      ]
     },
     "execution_count": 97,
     "metadata": {},
     "output_type": "execute_result"
    }
   ],
   "source": [
    "puff10"
   ]
  },
  {
   "cell_type": "code",
   "execution_count": 98,
   "metadata": {
    "collapsed": false
   },
   "outputs": [
    {
     "data": {
      "text/html": [
       "<div>\n",
       "<table border=\"1\" class=\"dataframe\">\n",
       "  <thead>\n",
       "    <tr style=\"text-align: right;\">\n",
       "      <th></th>\n",
       "      <th>Baseline</th>\n",
       "      <th>2</th>\n",
       "      <th>4</th>\n",
       "      <th>6</th>\n",
       "      <th>8</th>\n",
       "      <th>10</th>\n",
       "      <th>EOS</th>\n",
       "      <th>Cotinine (BL)</th>\n",
       "      <th>FagerStrom</th>\n",
       "      <th>Cig/Day</th>\n",
       "      <th>Gender</th>\n",
       "      <th>Age</th>\n",
       "      <th>Weight (lb)</th>\n",
       "      <th>Height (\")</th>\n",
       "    </tr>\n",
       "  </thead>\n",
       "  <tbody>\n",
       "    <tr>\n",
       "      <th>18-002(16ARUP)</th>\n",
       "      <td>3</td>\n",
       "      <td>5</td>\n",
       "      <td>13</td>\n",
       "      <td>12</td>\n",
       "      <td>8</td>\n",
       "      <td>12</td>\n",
       "      <td>10</td>\n",
       "      <td>90</td>\n",
       "      <td>6</td>\n",
       "      <td>0_10</td>\n",
       "      <td>M</td>\n",
       "      <td>22</td>\n",
       "      <td>135</td>\n",
       "      <td>70</td>\n",
       "    </tr>\n",
       "    <tr>\n",
       "      <th>32-002</th>\n",
       "      <td>3</td>\n",
       "      <td>10</td>\n",
       "      <td>13</td>\n",
       "      <td>12</td>\n",
       "      <td>16</td>\n",
       "      <td>11</td>\n",
       "      <td>17</td>\n",
       "      <td>167</td>\n",
       "      <td>6</td>\n",
       "      <td>20_30</td>\n",
       "      <td>M</td>\n",
       "      <td>52</td>\n",
       "      <td>155</td>\n",
       "      <td>75</td>\n",
       "    </tr>\n",
       "    <tr>\n",
       "      <th>33-002</th>\n",
       "      <td>7</td>\n",
       "      <td>13</td>\n",
       "      <td>9</td>\n",
       "      <td>9</td>\n",
       "      <td>13</td>\n",
       "      <td>11</td>\n",
       "      <td>13</td>\n",
       "      <td>137</td>\n",
       "      <td>6</td>\n",
       "      <td>11_20</td>\n",
       "      <td>M</td>\n",
       "      <td>28</td>\n",
       "      <td>187</td>\n",
       "      <td>73</td>\n",
       "    </tr>\n",
       "    <tr>\n",
       "      <th>34-001</th>\n",
       "      <td>8</td>\n",
       "      <td>15</td>\n",
       "      <td>9</td>\n",
       "      <td>14</td>\n",
       "      <td>16</td>\n",
       "      <td>15</td>\n",
       "      <td>12</td>\n",
       "      <td>200</td>\n",
       "      <td>7</td>\n",
       "      <td>0_10</td>\n",
       "      <td>M</td>\n",
       "      <td>30</td>\n",
       "      <td>207</td>\n",
       "      <td>71</td>\n",
       "    </tr>\n",
       "    <tr>\n",
       "      <th>19-004</th>\n",
       "      <td>10</td>\n",
       "      <td>9</td>\n",
       "      <td>19</td>\n",
       "      <td>14</td>\n",
       "      <td>12</td>\n",
       "      <td>19</td>\n",
       "      <td>12</td>\n",
       "      <td>102</td>\n",
       "      <td>6</td>\n",
       "      <td>11_20</td>\n",
       "      <td>M</td>\n",
       "      <td>24</td>\n",
       "      <td>155</td>\n",
       "      <td>67</td>\n",
       "    </tr>\n",
       "    <tr>\n",
       "      <th>35-001</th>\n",
       "      <td>5</td>\n",
       "      <td>9</td>\n",
       "      <td>9</td>\n",
       "      <td>8</td>\n",
       "      <td>10</td>\n",
       "      <td>27</td>\n",
       "      <td>12</td>\n",
       "      <td>77</td>\n",
       "      <td>6</td>\n",
       "      <td>11_20</td>\n",
       "      <td>M</td>\n",
       "      <td>30</td>\n",
       "      <td>135</td>\n",
       "      <td>69</td>\n",
       "    </tr>\n",
       "    <tr>\n",
       "      <th>36-001</th>\n",
       "      <td>7</td>\n",
       "      <td>2</td>\n",
       "      <td>9</td>\n",
       "      <td>6</td>\n",
       "      <td>6</td>\n",
       "      <td>6</td>\n",
       "      <td>5</td>\n",
       "      <td>359</td>\n",
       "      <td>6</td>\n",
       "      <td>0_10</td>\n",
       "      <td>M</td>\n",
       "      <td>22</td>\n",
       "      <td>160</td>\n",
       "      <td>64</td>\n",
       "    </tr>\n",
       "    <tr>\n",
       "      <th>37-001</th>\n",
       "      <td>6</td>\n",
       "      <td>2</td>\n",
       "      <td>4</td>\n",
       "      <td>6</td>\n",
       "      <td>6</td>\n",
       "      <td>9</td>\n",
       "      <td>5</td>\n",
       "      <td>56</td>\n",
       "      <td>5,8</td>\n",
       "      <td>11_20,20_30</td>\n",
       "      <td>M</td>\n",
       "      <td>22</td>\n",
       "      <td>165</td>\n",
       "      <td>71</td>\n",
       "    </tr>\n",
       "    <tr>\n",
       "      <th>38-001</th>\n",
       "      <td>2</td>\n",
       "      <td>2</td>\n",
       "      <td>3</td>\n",
       "      <td>4</td>\n",
       "      <td>5</td>\n",
       "      <td>5</td>\n",
       "      <td>4</td>\n",
       "      <td>9</td>\n",
       "      <td>4,2,9</td>\n",
       "      <td>0_10,20_30</td>\n",
       "      <td>M</td>\n",
       "      <td>24</td>\n",
       "      <td>157</td>\n",
       "      <td>68</td>\n",
       "    </tr>\n",
       "  </tbody>\n",
       "</table>\n",
       "</div>"
      ],
      "text/plain": [
       "               Baseline   2   4   6   8  10 EOS Cotinine (BL) FagerStrom  \\\n",
       "18-002(16ARUP)        3   5  13  12   8  12  10            90          6   \n",
       "32-002                3  10  13  12  16  11  17           167          6   \n",
       "33-002                7  13   9   9  13  11  13           137          6   \n",
       "34-001                8  15   9  14  16  15  12           200          7   \n",
       "19-004               10   9  19  14  12  19  12           102          6   \n",
       "35-001                5   9   9   8  10  27  12            77          6   \n",
       "36-001                7   2   9   6   6   6   5           359          6   \n",
       "37-001                6   2   4   6   6   9   5            56        5,8   \n",
       "38-001                2   2   3   4   5   5   4             9      4,2,9   \n",
       "\n",
       "                    Cig/Day Gender Age Weight (lb) Height (\")  \n",
       "18-002(16ARUP)         0_10      M  22         135         70  \n",
       "32-002                20_30      M  52         155         75  \n",
       "33-002                11_20      M  28         187         73  \n",
       "34-001                 0_10      M  30         207         71  \n",
       "19-004                11_20      M  24         155         67  \n",
       "35-001                11_20      M  30         135         69  \n",
       "36-001                 0_10      M  22         160         64  \n",
       "37-001          11_20,20_30      M  22         165         71  \n",
       "38-001           0_10,20_30      M  24         157         68  "
      ]
     },
     "execution_count": 98,
     "metadata": {},
     "output_type": "execute_result"
    }
   ],
   "source": [
    "puff10t = puff10.transpose()\n",
    "puff10t"
   ]
  },
  {
   "cell_type": "code",
   "execution_count": 99,
   "metadata": {
    "collapsed": false
   },
   "outputs": [
    {
     "data": {
      "text/plain": [
       "<matplotlib.axes._subplots.AxesSubplot at 0x119594f28>"
      ]
     },
     "execution_count": 99,
     "metadata": {},
     "output_type": "execute_result"
    },
    {
     "data": {
      "image/png": "[encoded data removed]",
      "text/plain": [
       "<matplotlib.figure.Figure at 0x119669748>"
      ]
     },
     "metadata": {},
     "output_type": "display_data"
    }
   ],
   "source": [
    "plot_x = [\"Baseline\",\"2\",\"4\",\"6\",\"8\",\"10\",\"EOS\"]\n",
    "num_columns = ['Age','Weight (lb)','Height (\")']\n",
    "puff10t[plot_x]=puff10t[plot_x].apply(pd.to_numeric)\n",
    "puff10t[num_columns]=puff10t[num_columns].apply(pd.to_numeric)\n",
    "puff10t[plot_x].plot(kind='box')"
   ]
  },
  {
   "cell_type": "code",
   "execution_count": 100,
   "metadata": {
    "collapsed": false
   },
   "outputs": [
    {
     "data": {
      "text/plain": [
       "<matplotlib.axes._subplots.AxesSubplot at 0x119669470>"
      ]
     },
     "execution_count": 100,
     "metadata": {},
     "output_type": "execute_result"
    },
    {
     "data": {
      "image/png": "[encoded data removed]",
      "text/plain": [
       "<matplotlib.figure.Figure at 0x1197ad518>"
      ]
     },
     "metadata": {},
     "output_type": "display_data"
    }
   ],
   "source": [
    "plot_x_norm = [\"BaselineN\",\"2N\",\"4N\",\"6N\",\"8N\",\"10N\",\"EOSN\"]\n",
    "puff10t[plot_x_norm]=puff10t[plot_x].divide(puff10t['Weight (lb)'],axis=0)*150\n",
    "puff10t[plot_x_norm].plot(kind='box')"
   ]
  },
  {
   "cell_type": "code",
   "execution_count": 101,
   "metadata": {
    "collapsed": false
   },
   "outputs": [
    {
     "name": "stdout",
     "output_type": "stream",
     "text": [
      "[ 0.61446852  5.57605865]\n"
     ]
    }
   ],
   "source": [
    "nic_norm_mean=np.array(puff10t[plot_x_norm].mean())\n",
    "nic_norm_std=np.array(puff10t[plot_x_norm].std())\n",
    "puff_norm=np.array([0,2,4,6,8,10])\n",
    "p=np.polyfit(puff_norm,nic_norm_mean[:-1],1)\n",
    "print(p)\n",
    "linefit = p[1]+puff_norm*p[0]"
   ]
  },
  {
   "cell_type": "code",
   "execution_count": 105,
   "metadata": {
    "collapsed": false
   },
   "outputs": [
    {
     "data": {
      "text/plain": [
       "<matplotlib.text.Text at 0x119d47860>"
      ]
     },
     "execution_count": 105,
     "metadata": {},
     "output_type": "execute_result"
    },
    {
     "data": {
      "image/png": "[encoded data removed]",
      "text/plain": [
       "<matplotlib.figure.Figure at 0x119d409b0>"
      ]
     },
     "metadata": {},
     "output_type": "display_data"
    }
   ],
   "source": [
    "plt.errorbar(puff_norm,nic_norm_mean[:-1],yerr=nic_norm_std[:-1], marker='o')\n",
    "plt.plot(puff_norm,linefit)\n",
    "plt.xlim((-0.3,10.3))\n",
    "plt.xlabel('Sprays')\n",
    "plt.ylabel('normalized blood nicotine concentration ng/ml')"
   ]
  },
  {
   "cell_type": "code",
   "execution_count": null,
   "metadata": {
    "collapsed": true
   },
   "outputs": [],
   "source": []
  }
 ],
 "metadata": {
  "anaconda-cloud": {},
  "kernelspec": {
   "display_name": "Python [conda env:python3]",
   "language": "python",
   "name": "conda-env-python3-py"
  },
  "language_info": {
   "codemirror_mode": {
    "name": "ipython",
    "version": 3
   },
   "file_extension": ".py",
   "mimetype": "text/x-python",
   "name": "python",
   "nbconvert_exporter": "python",
   "pygments_lexer": "ipython3",
   "version": "3.5.2"
  }
 },
 "nbformat": 4,
 "nbformat_minor": 1
}
