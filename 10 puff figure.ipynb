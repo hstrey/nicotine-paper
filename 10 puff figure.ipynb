{
 "cells": [
  {
   "cell_type": "code",
   "execution_count": 1,
   "metadata": {
    "collapsed": true
   },
   "outputs": [],
   "source": [
    "%matplotlib inline\n",
    "import numpy as np\n",
    "import matplotlib.pylab as plt\n",
    "import pandas as pd"
   ]
  },
  {
   "cell_type": "code",
   "execution_count": 5,
   "metadata": {
    "collapsed": false
   },
   "outputs": [],
   "source": [
    "puff10=pd.read_csv(\"10Puff.csv\",index_col=0)"
   ]
  },
  {
   "cell_type": "code",
   "execution_count": 6,
   "metadata": {
    "collapsed": false
   },
   "outputs": [
    {
     "data": {
      "text/html": [
       "<div>\n",
       "<table border=\"1\" class=\"dataframe\">\n",
       "  <thead>\n",
       "    <tr style=\"text-align: right;\">\n",
       "      <th></th>\n",
       "      <th>3-003</th>\n",
       "      <th>5-001</th>\n",
       "      <th>6-001</th>\n",
       "      <th>7-001</th>\n",
       "      <th>11-001 (9 ARUP)</th>\n",
       "      <th>12-001 (10 ARUP)</th>\n",
       "      <th>13-001</th>\n",
       "      <th>17-001 (15 ARUP)</th>\n",
       "      <th>18-001 (16 ARUP)</th>\n",
       "      <th>17-001</th>\n",
       "      <th>18-001</th>\n",
       "    </tr>\n",
       "  </thead>\n",
       "  <tbody>\n",
       "    <tr>\n",
       "      <th>Baseline</th>\n",
       "      <td>2</td>\n",
       "      <td>1</td>\n",
       "      <td>8</td>\n",
       "      <td>2</td>\n",
       "      <td>2</td>\n",
       "      <td>5</td>\n",
       "      <td>3</td>\n",
       "      <td>1</td>\n",
       "      <td>1</td>\n",
       "      <td>1</td>\n",
       "      <td>1</td>\n",
       "    </tr>\n",
       "    <tr>\n",
       "      <th>2</th>\n",
       "      <td>2</td>\n",
       "      <td>1</td>\n",
       "      <td>7</td>\n",
       "      <td>5</td>\n",
       "      <td>4</td>\n",
       "      <td>4</td>\n",
       "      <td>1</td>\n",
       "      <td>1</td>\n",
       "      <td>1</td>\n",
       "      <td>2</td>\n",
       "      <td>1</td>\n",
       "    </tr>\n",
       "    <tr>\n",
       "      <th>4</th>\n",
       "      <td>1</td>\n",
       "      <td>2</td>\n",
       "      <td>9</td>\n",
       "      <td>6</td>\n",
       "      <td>8</td>\n",
       "      <td>7</td>\n",
       "      <td>4</td>\n",
       "      <td>4</td>\n",
       "      <td>1</td>\n",
       "      <td>3</td>\n",
       "      <td>3</td>\n",
       "    </tr>\n",
       "    <tr>\n",
       "      <th>6</th>\n",
       "      <td>4</td>\n",
       "      <td>3</td>\n",
       "      <td>7</td>\n",
       "      <td>6</td>\n",
       "      <td>9</td>\n",
       "      <td>11</td>\n",
       "      <td>5</td>\n",
       "      <td>6</td>\n",
       "      <td>1</td>\n",
       "      <td>4</td>\n",
       "      <td>3</td>\n",
       "    </tr>\n",
       "    <tr>\n",
       "      <th>8</th>\n",
       "      <td>1</td>\n",
       "      <td>4</td>\n",
       "      <td>6</td>\n",
       "      <td>8</td>\n",
       "      <td>9</td>\n",
       "      <td>13</td>\n",
       "      <td>6</td>\n",
       "      <td>NaN</td>\n",
       "      <td>3</td>\n",
       "      <td>7</td>\n",
       "      <td>6</td>\n",
       "    </tr>\n",
       "    <tr>\n",
       "      <th>10</th>\n",
       "      <td>3</td>\n",
       "      <td>7</td>\n",
       "      <td>8</td>\n",
       "      <td>9</td>\n",
       "      <td>12</td>\n",
       "      <td>15</td>\n",
       "      <td>7</td>\n",
       "      <td>9</td>\n",
       "      <td>4</td>\n",
       "      <td>NaN</td>\n",
       "      <td>6</td>\n",
       "    </tr>\n",
       "    <tr>\n",
       "      <th>EOS</th>\n",
       "      <td>1</td>\n",
       "      <td>5</td>\n",
       "      <td>9</td>\n",
       "      <td>8</td>\n",
       "      <td>10</td>\n",
       "      <td>13</td>\n",
       "      <td>7</td>\n",
       "      <td>5</td>\n",
       "      <td>NaN</td>\n",
       "      <td>7</td>\n",
       "      <td>6</td>\n",
       "    </tr>\n",
       "    <tr>\n",
       "      <th>Cotinine(BL)</th>\n",
       "      <td>151</td>\n",
       "      <td>124</td>\n",
       "      <td>59</td>\n",
       "      <td>29</td>\n",
       "      <td>280</td>\n",
       "      <td>354</td>\n",
       "      <td>159</td>\n",
       "      <td>73</td>\n",
       "      <td>30</td>\n",
       "      <td>134</td>\n",
       "      <td>39</td>\n",
       "    </tr>\n",
       "    <tr>\n",
       "      <th>FagerStrom</th>\n",
       "      <td>6</td>\n",
       "      <td>7</td>\n",
       "      <td>7</td>\n",
       "      <td>6</td>\n",
       "      <td>7</td>\n",
       "      <td>7</td>\n",
       "      <td>8</td>\n",
       "      <td>7</td>\n",
       "      <td>6</td>\n",
       "      <td>6</td>\n",
       "      <td>6</td>\n",
       "    </tr>\n",
       "    <tr>\n",
       "      <th>Cig/Day</th>\n",
       "      <td>11_20</td>\n",
       "      <td>11_20</td>\n",
       "      <td>0_10</td>\n",
       "      <td>0_10</td>\n",
       "      <td>0_10</td>\n",
       "      <td>11_20</td>\n",
       "      <td>11_20</td>\n",
       "      <td>11_20</td>\n",
       "      <td>0_10</td>\n",
       "      <td>11_20</td>\n",
       "      <td>0_10</td>\n",
       "    </tr>\n",
       "    <tr>\n",
       "      <th>Gender</th>\n",
       "      <td>F</td>\n",
       "      <td>M</td>\n",
       "      <td>M</td>\n",
       "      <td>M</td>\n",
       "      <td>M</td>\n",
       "      <td>F</td>\n",
       "      <td>M</td>\n",
       "      <td>M</td>\n",
       "      <td>M</td>\n",
       "      <td>M</td>\n",
       "      <td>F</td>\n",
       "    </tr>\n",
       "    <tr>\n",
       "      <th>Age</th>\n",
       "      <td>44</td>\n",
       "      <td>26</td>\n",
       "      <td>22</td>\n",
       "      <td>23</td>\n",
       "      <td>29</td>\n",
       "      <td>25</td>\n",
       "      <td>37</td>\n",
       "      <td>40</td>\n",
       "      <td>22</td>\n",
       "      <td>38</td>\n",
       "      <td>29</td>\n",
       "    </tr>\n",
       "    <tr>\n",
       "      <th>Weight (lb)</th>\n",
       "      <td>137</td>\n",
       "      <td>155</td>\n",
       "      <td>165</td>\n",
       "      <td>174</td>\n",
       "      <td>260</td>\n",
       "      <td>130</td>\n",
       "      <td>206</td>\n",
       "      <td>230</td>\n",
       "      <td>135</td>\n",
       "      <td>175</td>\n",
       "      <td>156</td>\n",
       "    </tr>\n",
       "    <tr>\n",
       "      <th>Height (\")</th>\n",
       "      <td>67</td>\n",
       "      <td>69.5</td>\n",
       "      <td>70</td>\n",
       "      <td>68</td>\n",
       "      <td>73</td>\n",
       "      <td>64</td>\n",
       "      <td>72</td>\n",
       "      <td>69</td>\n",
       "      <td>70</td>\n",
       "      <td>69</td>\n",
       "      <td>63</td>\n",
       "    </tr>\n",
       "  </tbody>\n",
       "</table>\n",
       "</div>"
      ],
      "text/plain": [
       "              3-003  5-001 6-001 7-001 11-001 (9 ARUP) 12-001 (10 ARUP)  \\\n",
       "Baseline          2      1     8     2               2                5   \n",
       "2                 2      1     7     5               4                4   \n",
       "4                 1      2     9     6               8                7   \n",
       "6                 4      3     7     6               9               11   \n",
       "8                 1      4     6     8               9               13   \n",
       "10                3      7     8     9              12               15   \n",
       "EOS               1      5     9     8              10               13   \n",
       "Cotinine(BL)    151    124    59    29             280              354   \n",
       "FagerStrom        6      7     7     6               7                7   \n",
       "Cig/Day       11_20  11_20  0_10  0_10            0_10            11_20   \n",
       "Gender            F      M     M     M               M                F   \n",
       "Age              44     26    22    23              29               25   \n",
       "Weight (lb)     137    155   165   174             260              130   \n",
       "Height (\")       67   69.5    70    68              73               64   \n",
       "\n",
       "             13-001 17-001 (15 ARUP) 18-001 (16 ARUP) 17-001 18-001  \n",
       "Baseline          3                1                1      1      1  \n",
       "2                 1                1                1      2      1  \n",
       "4                 4                4                1      3      3  \n",
       "6                 5                6                1      4      3  \n",
       "8                 6              NaN                3      7      6  \n",
       "10                7                9                4    NaN      6  \n",
       "EOS               7                5              NaN      7      6  \n",
       "Cotinine(BL)    159               73               30    134     39  \n",
       "FagerStrom        8                7                6      6      6  \n",
       "Cig/Day       11_20            11_20             0_10  11_20   0_10  \n",
       "Gender            M                M                M      M      F  \n",
       "Age              37               40               22     38     29  \n",
       "Weight (lb)     206              230              135    175    156  \n",
       "Height (\")       72               69               70     69     63  "
      ]
     },
     "execution_count": 6,
     "metadata": {},
     "output_type": "execute_result"
    }
   ],
   "source": [
    "puff10"
   ]
  },
  {
   "cell_type": "code",
   "execution_count": 7,
   "metadata": {
    "collapsed": false
   },
   "outputs": [
    {
     "data": {
      "text/html": [
       "<div>\n",
       "<table border=\"1\" class=\"dataframe\">\n",
       "  <thead>\n",
       "    <tr style=\"text-align: right;\">\n",
       "      <th></th>\n",
       "      <th>Baseline</th>\n",
       "      <th>2</th>\n",
       "      <th>4</th>\n",
       "      <th>6</th>\n",
       "      <th>8</th>\n",
       "      <th>10</th>\n",
       "      <th>EOS</th>\n",
       "      <th>Cotinine(BL)</th>\n",
       "      <th>FagerStrom</th>\n",
       "      <th>Cig/Day</th>\n",
       "      <th>Gender</th>\n",
       "      <th>Age</th>\n",
       "      <th>Weight (lb)</th>\n",
       "      <th>Height (\")</th>\n",
       "    </tr>\n",
       "  </thead>\n",
       "  <tbody>\n",
       "    <tr>\n",
       "      <th>3-003</th>\n",
       "      <td>2</td>\n",
       "      <td>2</td>\n",
       "      <td>1</td>\n",
       "      <td>4</td>\n",
       "      <td>1</td>\n",
       "      <td>3</td>\n",
       "      <td>1</td>\n",
       "      <td>151</td>\n",
       "      <td>6</td>\n",
       "      <td>11_20</td>\n",
       "      <td>F</td>\n",
       "      <td>44</td>\n",
       "      <td>137</td>\n",
       "      <td>67</td>\n",
       "    </tr>\n",
       "    <tr>\n",
       "      <th>5-001</th>\n",
       "      <td>1</td>\n",
       "      <td>1</td>\n",
       "      <td>2</td>\n",
       "      <td>3</td>\n",
       "      <td>4</td>\n",
       "      <td>7</td>\n",
       "      <td>5</td>\n",
       "      <td>124</td>\n",
       "      <td>7</td>\n",
       "      <td>11_20</td>\n",
       "      <td>M</td>\n",
       "      <td>26</td>\n",
       "      <td>155</td>\n",
       "      <td>69.5</td>\n",
       "    </tr>\n",
       "    <tr>\n",
       "      <th>6-001</th>\n",
       "      <td>8</td>\n",
       "      <td>7</td>\n",
       "      <td>9</td>\n",
       "      <td>7</td>\n",
       "      <td>6</td>\n",
       "      <td>8</td>\n",
       "      <td>9</td>\n",
       "      <td>59</td>\n",
       "      <td>7</td>\n",
       "      <td>0_10</td>\n",
       "      <td>M</td>\n",
       "      <td>22</td>\n",
       "      <td>165</td>\n",
       "      <td>70</td>\n",
       "    </tr>\n",
       "    <tr>\n",
       "      <th>7-001</th>\n",
       "      <td>2</td>\n",
       "      <td>5</td>\n",
       "      <td>6</td>\n",
       "      <td>6</td>\n",
       "      <td>8</td>\n",
       "      <td>9</td>\n",
       "      <td>8</td>\n",
       "      <td>29</td>\n",
       "      <td>6</td>\n",
       "      <td>0_10</td>\n",
       "      <td>M</td>\n",
       "      <td>23</td>\n",
       "      <td>174</td>\n",
       "      <td>68</td>\n",
       "    </tr>\n",
       "    <tr>\n",
       "      <th>11-001 (9 ARUP)</th>\n",
       "      <td>2</td>\n",
       "      <td>4</td>\n",
       "      <td>8</td>\n",
       "      <td>9</td>\n",
       "      <td>9</td>\n",
       "      <td>12</td>\n",
       "      <td>10</td>\n",
       "      <td>280</td>\n",
       "      <td>7</td>\n",
       "      <td>0_10</td>\n",
       "      <td>M</td>\n",
       "      <td>29</td>\n",
       "      <td>260</td>\n",
       "      <td>73</td>\n",
       "    </tr>\n",
       "    <tr>\n",
       "      <th>12-001 (10 ARUP)</th>\n",
       "      <td>5</td>\n",
       "      <td>4</td>\n",
       "      <td>7</td>\n",
       "      <td>11</td>\n",
       "      <td>13</td>\n",
       "      <td>15</td>\n",
       "      <td>13</td>\n",
       "      <td>354</td>\n",
       "      <td>7</td>\n",
       "      <td>11_20</td>\n",
       "      <td>F</td>\n",
       "      <td>25</td>\n",
       "      <td>130</td>\n",
       "      <td>64</td>\n",
       "    </tr>\n",
       "    <tr>\n",
       "      <th>13-001</th>\n",
       "      <td>3</td>\n",
       "      <td>1</td>\n",
       "      <td>4</td>\n",
       "      <td>5</td>\n",
       "      <td>6</td>\n",
       "      <td>7</td>\n",
       "      <td>7</td>\n",
       "      <td>159</td>\n",
       "      <td>8</td>\n",
       "      <td>11_20</td>\n",
       "      <td>M</td>\n",
       "      <td>37</td>\n",
       "      <td>206</td>\n",
       "      <td>72</td>\n",
       "    </tr>\n",
       "    <tr>\n",
       "      <th>17-001 (15 ARUP)</th>\n",
       "      <td>1</td>\n",
       "      <td>1</td>\n",
       "      <td>4</td>\n",
       "      <td>6</td>\n",
       "      <td>NaN</td>\n",
       "      <td>9</td>\n",
       "      <td>5</td>\n",
       "      <td>73</td>\n",
       "      <td>7</td>\n",
       "      <td>11_20</td>\n",
       "      <td>M</td>\n",
       "      <td>40</td>\n",
       "      <td>230</td>\n",
       "      <td>69</td>\n",
       "    </tr>\n",
       "    <tr>\n",
       "      <th>18-001 (16 ARUP)</th>\n",
       "      <td>1</td>\n",
       "      <td>1</td>\n",
       "      <td>1</td>\n",
       "      <td>1</td>\n",
       "      <td>3</td>\n",
       "      <td>4</td>\n",
       "      <td>NaN</td>\n",
       "      <td>30</td>\n",
       "      <td>6</td>\n",
       "      <td>0_10</td>\n",
       "      <td>M</td>\n",
       "      <td>22</td>\n",
       "      <td>135</td>\n",
       "      <td>70</td>\n",
       "    </tr>\n",
       "    <tr>\n",
       "      <th>17-001</th>\n",
       "      <td>1</td>\n",
       "      <td>2</td>\n",
       "      <td>3</td>\n",
       "      <td>4</td>\n",
       "      <td>7</td>\n",
       "      <td>NaN</td>\n",
       "      <td>7</td>\n",
       "      <td>134</td>\n",
       "      <td>6</td>\n",
       "      <td>11_20</td>\n",
       "      <td>M</td>\n",
       "      <td>38</td>\n",
       "      <td>175</td>\n",
       "      <td>69</td>\n",
       "    </tr>\n",
       "    <tr>\n",
       "      <th>18-001</th>\n",
       "      <td>1</td>\n",
       "      <td>1</td>\n",
       "      <td>3</td>\n",
       "      <td>3</td>\n",
       "      <td>6</td>\n",
       "      <td>6</td>\n",
       "      <td>6</td>\n",
       "      <td>39</td>\n",
       "      <td>6</td>\n",
       "      <td>0_10</td>\n",
       "      <td>F</td>\n",
       "      <td>29</td>\n",
       "      <td>156</td>\n",
       "      <td>63</td>\n",
       "    </tr>\n",
       "  </tbody>\n",
       "</table>\n",
       "</div>"
      ],
      "text/plain": [
       "                 Baseline  2  4   6    8   10  EOS Cotinine(BL) FagerStrom  \\\n",
       "3-003                   2  2  1   4    1    3    1          151          6   \n",
       "5-001                   1  1  2   3    4    7    5          124          7   \n",
       "6-001                   8  7  9   7    6    8    9           59          7   \n",
       "7-001                   2  5  6   6    8    9    8           29          6   \n",
       "11-001 (9 ARUP)         2  4  8   9    9   12   10          280          7   \n",
       "12-001 (10 ARUP)        5  4  7  11   13   15   13          354          7   \n",
       "13-001                  3  1  4   5    6    7    7          159          8   \n",
       "17-001 (15 ARUP)        1  1  4   6  NaN    9    5           73          7   \n",
       "18-001 (16 ARUP)        1  1  1   1    3    4  NaN           30          6   \n",
       "17-001                  1  2  3   4    7  NaN    7          134          6   \n",
       "18-001                  1  1  3   3    6    6    6           39          6   \n",
       "\n",
       "                 Cig/Day Gender Age Weight (lb) Height (\")  \n",
       "3-003              11_20      F  44         137         67  \n",
       "5-001              11_20      M  26         155       69.5  \n",
       "6-001               0_10      M  22         165         70  \n",
       "7-001               0_10      M  23         174         68  \n",
       "11-001 (9 ARUP)     0_10      M  29         260         73  \n",
       "12-001 (10 ARUP)   11_20      F  25         130         64  \n",
       "13-001             11_20      M  37         206         72  \n",
       "17-001 (15 ARUP)   11_20      M  40         230         69  \n",
       "18-001 (16 ARUP)    0_10      M  22         135         70  \n",
       "17-001             11_20      M  38         175         69  \n",
       "18-001              0_10      F  29         156         63  "
      ]
     },
     "execution_count": 7,
     "metadata": {},
     "output_type": "execute_result"
    }
   ],
   "source": [
    "puff10t = puff10.transpose()\n",
    "puff10t"
   ]
  },
  {
   "cell_type": "code",
   "execution_count": 16,
   "metadata": {
    "collapsed": false
   },
   "outputs": [
    {
     "data": {
      "text/plain": [
       "<matplotlib.axes._subplots.AxesSubplot at 0x1186d0240>"
      ]
     },
     "execution_count": 16,
     "metadata": {},
     "output_type": "execute_result"
    },
    {
     "data": {
      "image/png": "[encoded data removed]",
      "text/plain": [
       "<matplotlib.figure.Figure at 0x118698c50>"
      ]
     },
     "metadata": {},
     "output_type": "display_data"
    }
   ],
   "source": [
    "plot_x = [\"Baseline\",\"2\",\"4\",\"6\",\"8\",\"10\",\"EOS\"]\n",
    "num_columns = ['Age','Weight (lb)','Height (\")']\n",
    "puff10t[plot_x]=puff10t[plot_x].apply(pd.to_numeric)\n",
    "puff10t[num_columns]=puff10t[num_columns].apply(pd.to_numeric)\n",
    "# create new column \"offset\" and set value to zero if value is 1 (one could mean anything below 2)\n",
    "puff10t[\"offset\"]=puff10t[\"Baseline\"]\n",
    "puff10t.loc[puff10t[\"offset\"]==1,\"offset\"]=0\n",
    "puff10t[plot_x].plot(kind='box')"
   ]
  },
  {
   "cell_type": "code",
   "execution_count": 18,
   "metadata": {
    "collapsed": false
   },
   "outputs": [
    {
     "data": {
      "text/plain": [
       "<matplotlib.axes._subplots.AxesSubplot at 0x118a8aac8>"
      ]
     },
     "execution_count": 18,
     "metadata": {},
     "output_type": "execute_result"
    },
    {
     "data": {
      "image/png": "[encoded data removed]",
      "text/plain": [
       "<matplotlib.figure.Figure at 0x118a95128>"
      ]
     },
     "metadata": {},
     "output_type": "display_data"
    }
   ],
   "source": [
    "# create body weight normalized nicotine concentrations\n",
    "plot_x_norm = [\"BaselineN\",\"2N\",\"4N\",\"6N\",\"8N\",\"10N\",\"EOSN\"]\n",
    "puff10t[plot_x_norm]=puff10t[plot_x].divide(puff10t['Weight (lb)'],axis=0)*150\n",
    "puff10t[plot_x_norm].plot(kind='box')"
   ]
  },
  {
   "cell_type": "code",
   "execution_count": 10,
   "metadata": {
    "collapsed": false
   },
   "outputs": [
    {
     "name": "stdout",
     "output_type": "stream",
     "text": [
      "[ 0.49912321  1.80503511]\n"
     ]
    }
   ],
   "source": [
    "nic_norm_mean=np.array(puff10t[plot_x_norm].mean())\n",
    "nic_norm_std=np.array(puff10t[plot_x_norm].std())\n",
    "puff_norm=np.array([0,2,4,6,8,10])\n",
    "p=np.polyfit(puff_norm,nic_norm_mean[:-1],1)\n",
    "print(p)\n",
    "linefit = p[1]+puff_norm*p[0]"
   ]
  },
  {
   "cell_type": "code",
   "execution_count": 11,
   "metadata": {
    "collapsed": false
   },
   "outputs": [
    {
     "data": {
      "text/plain": [
       "<matplotlib.text.Text at 0x1155e5c88>"
      ]
     },
     "execution_count": 11,
     "metadata": {},
     "output_type": "execute_result"
    },
    {
     "data": {
      "image/png": "[encoded data removed]",
      "text/plain": [
       "<matplotlib.figure.Figure at 0x117c9d518>"
      ]
     },
     "metadata": {},
     "output_type": "display_data"
    }
   ],
   "source": [
    "plt.errorbar(puff_norm,nic_norm_mean[:-1],yerr=nic_norm_std[:-1], marker='o')\n",
    "plt.plot(puff_norm,linefit)\n",
    "plt.xlim((-0.3,10.3))\n",
    "plt.xlabel('Sprays')\n",
    "plt.ylabel('normalized blood nicotine concentration ng/ml')"
   ]
  },
  {
   "cell_type": "code",
   "execution_count": 19,
   "metadata": {
    "collapsed": false
   },
   "outputs": [
    {
     "data": {
      "text/plain": [
       "<matplotlib.axes._subplots.AxesSubplot at 0x117f07b70>"
      ]
     },
     "execution_count": 19,
     "metadata": {},
     "output_type": "execute_result"
    },
    {
     "data": {
      "image/png": "[encoded data removed]",
      "text/plain": [
       "<matplotlib.figure.Figure at 0x1186c9710>"
      ]
     },
     "metadata": {},
     "output_type": "display_data"
    }
   ],
   "source": [
    "# try something different.  First subtract the offset and then normalize\n",
    "plot_x_norm_offset = [\"BaselineON\",\"2ON\",\"4ON\",\"6ON\",\"8ON\",\"10ON\",\"EOSON\"]\n",
    "puff10t[plot_x_norm_offset]=puff10t[plot_x].subtract(puff10t[\"offset\"],axis=0).divide(puff10t['Weight (lb)'],axis=0)*150\n",
    "puff10t[plot_x_norm_offset].plot(kind='box')"
   ]
  },
  {
   "cell_type": "code",
   "execution_count": 23,
   "metadata": {
    "collapsed": false
   },
   "outputs": [
    {
     "name": "stdout",
     "output_type": "stream",
     "text": [
      "[ 0.53947447 -0.44649598]\n"
     ]
    }
   ],
   "source": [
    "nic_norm_offset_mean=np.array(puff10t[plot_x_norm_offset].mean())\n",
    "nic_norm_offset_std=np.array(puff10t[plot_x_norm_offset].std())\n",
    "puff_norm_offset=np.array([2,4,6,8,10])\n",
    "p2=np.polyfit(puff_norm_offset,nic_norm_offset_mean[1:-1],1)\n",
    "print(p2)\n",
    "linefit = p2[1]+puff_norm*p2[0]"
   ]
  },
  {
   "cell_type": "code",
   "execution_count": 24,
   "metadata": {
    "collapsed": false
   },
   "outputs": [
    {
     "data": {
      "text/plain": [
       "<matplotlib.text.Text at 0x118623320>"
      ]
     },
     "execution_count": 24,
     "metadata": {},
     "output_type": "execute_result"
    },
    {
     "data": {
      "image/png": "[encoded data removed]",
      "text/plain": [
       "<matplotlib.figure.Figure at 0x1189fdcf8>"
      ]
     },
     "metadata": {},
     "output_type": "display_data"
    }
   ],
   "source": [
    "plt.errorbar(puff_norm_offset,nic_norm_offset_mean[1:-1],yerr=nic_norm_offset_std[1:-1], marker='o')\n",
    "plt.plot(puff_norm_offset,linefit)\n",
    "plt.xlim((-0.3,10.3))\n",
    "plt.xlabel('Sprays')\n",
    "plt.ylabel('normalized blood nicotine concentration ng/ml')"
   ]
  },
  {
   "cell_type": "code",
   "execution_count": null,
   "metadata": {
    "collapsed": true
   },
   "outputs": [],
   "source": []
  }
 ],
 "metadata": {
  "anaconda-cloud": {},
  "kernelspec": {
   "display_name": "Python [conda env:python3]",
   "language": "python",
   "name": "conda-env-python3-py"
  },
  "language_info": {
   "codemirror_mode": {
    "name": "ipython",
    "version": 3
   },
   "file_extension": ".py",
   "mimetype": "text/x-python",
   "name": "python",
   "nbconvert_exporter": "python",
   "pygments_lexer": "ipython3",
   "version": "3.5.2"
  }
 },
 "nbformat": 4,
 "nbformat_minor": 1
}
