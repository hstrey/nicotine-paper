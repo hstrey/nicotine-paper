{
 "cells": [
  {
   "cell_type": "code",
   "execution_count": 5,
   "metadata": {
    "collapsed": true
   },
   "outputs": [],
   "source": [
    "%matplotlib inline\n",
    "import numpy as np\n",
    "import matplotlib.pylab as plt\n",
    "import pandas as pd\n",
    "import scipy.io\n",
    "import glob\n",
    "#import seaborn as sns"
   ]
  },
  {
   "cell_type": "code",
   "execution_count": 8,
   "metadata": {},
   "outputs": [
    {
     "data": {
      "text/plain": [
       "['Cravings Data/20Puff/10-Session-002',\n",
       " 'Cravings Data/20Puff/15-Session-002',\n",
       " 'Cravings Data/20Puff/17-Session-002',\n",
       " 'Cravings Data/20Puff/19-Session-002',\n",
       " 'Cravings Data/20Puff/21-Session-002',\n",
       " 'Cravings Data/20Puff/23-Session-001',\n",
       " 'Cravings Data/20Puff/24-Session-001',\n",
       " 'Cravings Data/20Puff/25-Session-001',\n",
       " 'Cravings Data/20Puff/26-Session-002',\n",
       " 'Cravings Data/20Puff/28-Session-001',\n",
       " 'Cravings Data/20Puff/3-Session-004',\n",
       " 'Cravings Data/20Puff/5-Session-002',\n",
       " 'Cravings Data/20Puff/7-Session-002',\n",
       " 'Cravings Data/20Puff/9-Session-002',\n",
       " 'Cravings Data/20Puff/Subject-29-Session-001']"
      ]
     },
     "execution_count": 8,
     "metadata": {},
     "output_type": "execute_result"
    }
   ],
   "source": [
    "puff20_list = glob.glob(\"Cravings Data/20Puff/*\")\n",
    "puff20_list"
   ]
  },
  {
   "cell_type": "code",
   "execution_count": 20,
   "metadata": {},
   "outputs": [
    {
     "name": "stdout",
     "output_type": "stream",
     "text": [
      "Session: 10-Session-002\n",
      "Session: 15-Session-002\n",
      "Session: 17-Session-002\n",
      "Session: 19-Session-002\n",
      "Session: 21-Session-002\n",
      "Session: 23-Session-001\n",
      "Session: 24-Session-001\n",
      "Session: 25-Session-001\n",
      "Session: 26-Session-002\n",
      "Session: 28-Session-001\n",
      "Session: 3-Session-004\n",
      "Session: 5-Session-002\n",
      "Session: 7-Session-002\n",
      "Session: 9-Session-002\n",
      "Session: Subject-29-Session-001\n"
     ]
    }
   ],
   "source": [
    "for puff_20_dir in puff20_list:\n",
    "    session_name = puff_20_dir.split('/')[-1]\n",
    "    print(\"Session:\",session_name)\n",
    "    puff20_subject_list = glob.glob(puff_20_dir+\"/*\")\n",
    "    for file in puff20_subject_list:\n",
    "        if \"CravingLevels\" in file:\n",
    "            craving_lvl = []\n",
    "            craving_time = []\n",
    "            with open(file,\"r\") as craving:\n",
    "                for line in craving:\n",
    "                    line_list = line.split()\n",
    "                    if line_list[0].startswith(\"Craving\"):\n",
    "                        craving_lvl.append(int(line_list[2]))\n",
    "                        craving_time.append(float(line_list[5]))\n",
    "            craving_time = np.array(craving_time)\n",
    "            craving_lvl = np.array(craving_lvl)\n",
    "            np.save(\"Cravings/\"+session_name+\"_lvl\",craving_lvl)\n",
    "            np.save(\"Cravings/\"+session_name+\"_time\",craving_time)"
   ]
  },
  {
   "cell_type": "code",
   "execution_count": null,
   "metadata": {
    "collapsed": true
   },
   "outputs": [],
   "source": []
  }
 ],
 "metadata": {
  "kernelspec": {
   "display_name": "Python [conda env:python3]",
   "language": "python",
   "name": "conda-env-python3-py"
  },
  "language_info": {
   "codemirror_mode": {
    "name": "ipython",
    "version": 3
   },
   "file_extension": ".py",
   "mimetype": "text/x-python",
   "name": "python",
   "nbconvert_exporter": "python",
   "pygments_lexer": "ipython3",
   "version": "3.5.3"
  }
 },
 "nbformat": 4,
 "nbformat_minor": 2
}
