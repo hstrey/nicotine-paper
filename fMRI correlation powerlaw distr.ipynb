{
 "cells": [
  {
   "cell_type": "code",
   "execution_count": 16,
   "metadata": {
    "collapsed": false
   },
   "outputs": [],
   "source": [
    "%matplotlib inline\n",
    "import numpy as np\n",
    "import matplotlib.pyplot as plt\n",
    "from scipy.special import expit\n",
    "from scipy.stats import pearsonr"
   ]
  },
  {
   "cell_type": "code",
   "execution_count": 17,
   "metadata": {
    "collapsed": false
   },
   "outputs": [
    {
     "data": {
      "text/plain": [
       "(array([   9.,   31.,  104.,  195.,  243.,  223.,  129.,   48.,   14.,    4.]),\n",
       " array([-0.13466698, -0.10634068, -0.07801438, -0.04968808, -0.02136178,\n",
       "         0.00696452,  0.03529082,  0.06361712,  0.09194341,  0.12026971,\n",
       "         0.14859601]),\n",
       " <a list of 10 Patch objects>)"
      ]
     },
     "execution_count": 17,
     "metadata": {},
     "output_type": "execute_result"
    },
    {
     "data": {
      "image/png": "[encoded data removed]",
      "text/plain": [
       "<matplotlib.figure.Figure at 0x1077a33d0>"
      ]
     },
     "metadata": {},
     "output_type": "display_data"
    }
   ],
   "source": [
    "#generate a signal with a power-law frequency spectrum\n",
    "n=1024\n",
    "freq = np.fft.rfftfreq(n, d=1.0)\n",
    "\n",
    "freq[0]=0.00001\n",
    "r=[]\n",
    "r_random=[]\n",
    "\n",
    "for i in range(1000):\n",
    "    random_phase1=np.random.random_sample(len(freq))*np.pi*2\n",
    "    random_phase2=np.random.random_sample(len(freq))*np.pi*2\n",
    "    error1=0.5*np.random.normal(0,1,len(freq))\n",
    "    error2=0.5*np.random.normal(0,1,len(freq))\n",
    "    power_spect1=freq**-1.0*(np.cos(random_phase1)+1j*np.sin(random_phase1))*(1.0+error1)\n",
    "    power_spect1[0]=0.0\n",
    "    ps1=np.abs(power_spect1)**2\n",
    "    power_spect2=freq**-1.0*(np.cos(random_phase2)+1j*np.sin(random_phase2))*(1.0+error2)\n",
    "    power_spect2[0]=0.0\n",
    "    ps2=np.abs(power_spect2)**2\n",
    "    signal1=np.fft.irfft(power_spect1)\n",
    "    signal2=np.fft.irfft(power_spect2)\n",
    "    rr,pp=pearsonr(signal1,signal2)\n",
    "    rs,ps=pearsonr(error1,error2)\n",
    "    r.append(rr)\n",
    "    r_random.append(rs)\n",
    "plt.hist(r)\n",
    "plt.hist(r_random)"
   ]
  },
  {
   "cell_type": "code",
   "execution_count": 18,
   "metadata": {
    "collapsed": false
   },
   "outputs": [
    {
     "data": {
      "text/plain": [
       "0.15879976206196678"
      ]
     },
     "execution_count": 18,
     "metadata": {},
     "output_type": "execute_result"
    }
   ],
   "source": [
    "rr"
   ]
  }
 ],
 "metadata": {
  "kernelspec": {
   "display_name": "Python 2",
   "language": "python",
   "name": "python2"
  },
  "language_info": {
   "codemirror_mode": {
    "name": "ipython",
    "version": 2
   },
   "file_extension": ".py",
   "mimetype": "text/x-python",
   "name": "python",
   "nbconvert_exporter": "python",
   "pygments_lexer": "ipython2",
   "version": "2.7.10"
  }
 },
 "nbformat": 4,
 "nbformat_minor": 0
}
